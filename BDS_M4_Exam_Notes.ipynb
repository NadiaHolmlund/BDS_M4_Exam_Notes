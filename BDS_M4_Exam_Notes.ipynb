{
  "nbformat": 4,
  "nbformat_minor": 0,
  "metadata": {
    "colab": {
      "provenance": [],
      "authorship_tag": "ABX9TyMhwufWEZUKY0xnUrHX8NM0",
      "include_colab_link": true
    },
    "kernelspec": {
      "name": "python3",
      "display_name": "Python 3"
    },
    "language_info": {
      "name": "python"
    }
  },
  "cells": [
    {
      "cell_type": "markdown",
      "metadata": {
        "id": "view-in-github",
        "colab_type": "text"
      },
      "source": [
        "<a href=\"https://colab.research.google.com/github/NadiaHolmlund/BDS_M4_Exam_Notes/blob/main/BDS_M4_Exam_Notes.ipynb\" target=\"_parent\"><img src=\"https://colab.research.google.com/assets/colab-badge.svg\" alt=\"Open In Colab\"/></a>"
      ]
    },
    {
      "cell_type": "markdown",
      "source": [
        "# Terms"
      ],
      "metadata": {
        "id": "JTEmN6oerKds"
      }
    },
    {
      "cell_type": "markdown",
      "source": [
        "# Artificial Neural Network (ANN)"
      ],
      "metadata": {
        "id": "2jmlCS6qrMOW"
      }
    },
    {
      "cell_type": "markdown",
      "source": [
        "# Convolutional Neural Network (CNN)"
      ],
      "metadata": {
        "id": "6-NNrdcWrRlP"
      }
    },
    {
      "cell_type": "markdown",
      "source": [
        "# Recurrent Neural Network (RNN)"
      ],
      "metadata": {
        "id": "c5_kHYz7rUEO"
      }
    },
    {
      "cell_type": "markdown",
      "source": [
        "# Long-Short Term Memory Neural Network (LSTM)"
      ],
      "metadata": {
        "id": "s_tSt-e-rYCQ"
      }
    },
    {
      "cell_type": "markdown",
      "source": [
        "# Tranformer Models"
      ],
      "metadata": {
        "id": "1bAkdivSrhqY"
      }
    }
  ]
}